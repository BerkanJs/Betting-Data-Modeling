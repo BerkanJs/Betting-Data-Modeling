{
 "cells": [
  {
   "cell_type": "code",
   "execution_count": 1,
   "id": "b038135e-bc5a-44b2-95db-6483a24b4184",
   "metadata": {
    "tags": []
   },
   "outputs": [
    {
     "name": "stdout",
     "output_type": "stream",
     "text": [
      "<class 'pandas.core.frame.DataFrame'>\n",
      "RangeIndex: 500 entries, 0 to 499\n",
      "Data columns (total 7 columns):\n",
      " #   Column          Non-Null Count  Dtype         \n",
      "---  ------          --------------  -----         \n",
      " 0   User_ID         500 non-null    object        \n",
      " 1   Signup_Date     500 non-null    datetime64[ns]\n",
      " 2   Bet_Amount      500 non-null    float64       \n",
      " 3   Region          500 non-null    object        \n",
      " 4   Account_Status  500 non-null    object        \n",
      " 5   Login_Count     500 non-null    int64         \n",
      " 6   Customer_Type   500 non-null    object        \n",
      "dtypes: datetime64[ns](1), float64(1), int64(1), object(4)\n",
      "memory usage: 27.5+ KB\n"
     ]
    }
   ],
   "source": [
    "import pandas as pd\n",
    "\n",
    "df = pd.read_csv(\"crm_opportunities.csv\")\n",
    "df['Signup_Date'] = pd.to_datetime(df['Signup_Date'], errors='coerce')\n",
    "df.info()\n"
   ]
  },
  {
   "cell_type": "markdown",
   "id": "52b47be2-871e-49d6-bd83-07435c6ca77b",
   "metadata": {},
   "source": [
    "#### Normallik, Çarpıklık ,Basıklık"
   ]
  },
  {
   "cell_type": "markdown",
   "id": "e8c59624-d2dc-477c-9c92-7fbc468b3b5d",
   "metadata": {},
   "source": [
    "##### Shapiro-wilks"
   ]
  },
  {
   "cell_type": "code",
   "execution_count": 4,
   "id": "0a0da5f5-e94a-4e0a-b94e-251498924d77",
   "metadata": {
    "tags": []
   },
   "outputs": [
    {
     "name": "stdout",
     "output_type": "stream",
     "text": [
      "Bet_Amount için Shapiro-Wilk testi:\n",
      "  Test istatistiği: 0.9516400694847107\n",
      "  p-değeri: 1.008529718071749e-11\n",
      "\n",
      "Bet_Amount verisi normal dağılmıyor.\n",
      "\n",
      "Login_Count için Shapiro-Wilk testi:\n",
      "  Test istatistiği: 0.9552814960479736\n",
      "  p-değeri: 3.595929110034035e-11\n",
      "\n",
      "Login_Count verisi normal dağılmıyor.\n",
      "\n"
     ]
    }
   ],
   "source": [
    "from scipy import stats\n",
    "\n",
    "numeric_columns = df.drop(columns=['User_ID','Signup_Date','Region','Account_Status','Customer_Type'])\n",
    "\n",
    "for column in numeric_columns.columns:\n",
    "    data = pd.to_numeric(df[column], errors='coerce').dropna()\n",
    "    stat, p_value = stats.shapiro(data)\n",
    "    \n",
    "    print(f'{column} için Shapiro-Wilk testi:')\n",
    "    print(f'  Test istatistiği: {stat}')\n",
    "    print(f'  p-değeri: {p_value}\\n')\n",
    "\n",
    "    if p_value < 0.05:\n",
    "        print(f'{column} verisi normal dağılmıyor.\\n')\n",
    "    else:\n",
    "        print(f'{column} verisi normal dağılıyor.\\n')"
   ]
  },
  {
   "cell_type": "markdown",
   "id": "bd833a66-1961-44d6-be2a-54a2dbcc5b94",
   "metadata": {},
   "source": [
    "##### Çarpıklık ve Basıklık"
   ]
  },
  {
   "cell_type": "code",
   "execution_count": 6,
   "id": "822200a3-3a74-4295-a87d-f838a9ceedcc",
   "metadata": {
    "tags": []
   },
   "outputs": [
    {
     "name": "stdout",
     "output_type": "stream",
     "text": [
      "Bet_Amount için Çarpıklık (Skewness): 0.03196082895312164 - Simetrik\n",
      "Bet_Amount için Basıklık (Kurtosis): -1.2291471597711463 - Aşırı düz\n",
      "\n",
      "Login_Count için Çarpıklık (Skewness): -0.030628799230582506 - Simetrik\n",
      "Login_Count için Basıklık (Kurtosis): -1.1701370163410936 - Aşırı düz\n",
      "\n"
     ]
    }
   ],
   "source": [
    "import pandas as pd\n",
    "\n",
    "numeric_columns = df.drop(columns=['User_ID','Signup_Date','Region','Account_Status','Customer_Type'])\n",
    "\n",
    "for column in numeric_columns.columns:\n",
    "    skewness = numeric_columns[column].skew()  # Çarpıklık\n",
    "    kurtosis = numeric_columns[column].kurt()  # Basıklık\n",
    "    \n",
    "    if skewness > 2:\n",
    "        skewness_level = 'Şiddetli sağa çarpık'\n",
    "    elif skewness > 1:\n",
    "        skewness_level = 'Orta derecede sağa çarpık'\n",
    "    elif skewness > 0.5:\n",
    "        skewness_level = 'Hafif sağa çarpık'\n",
    "    elif skewness > -0.5:\n",
    "        skewness_level = 'Simetrik'\n",
    "    elif skewness > -1:\n",
    "        skewness_level = 'Hafif sola çarpık'\n",
    "    elif skewness > -2:\n",
    "        skewness_level = 'Orta derecede sola çarpık'\n",
    "    else:\n",
    "        skewness_level = 'Şiddetli sola çarpık'\n",
    "    \n",
    "    if kurtosis > 6:\n",
    "        kurtosis_level = 'Aşırı leptokurtik (çok belirgin uç noktalar)'\n",
    "    elif kurtosis > 3:\n",
    "        kurtosis_level = 'Leptokurtik (keskin dağılım)'\n",
    "    elif kurtosis > 0:\n",
    "        kurtosis_level = 'Normal dağılıma yakın'\n",
    "    elif kurtosis > -1:\n",
    "        kurtosis_level = 'Daha düz, platykurtik'\n",
    "    else:\n",
    "        kurtosis_level = 'Aşırı düz'\n",
    "    \n",
    "\n",
    "    print(f'{column} için Çarpıklık (Skewness): {skewness} - {skewness_level}')\n",
    "    print(f'{column} için Basıklık (Kurtosis): {kurtosis} - {kurtosis_level}\\n')"
   ]
  },
  {
   "cell_type": "markdown",
   "id": "8ee20193-ea22-42e9-a5e8-d0dabda14c6e",
   "metadata": {
    "tags": []
   },
   "source": [
    "#### Korelasyon Testleri"
   ]
  },
  {
   "cell_type": "markdown",
   "id": "6e8708dc-6820-4c29-83fe-3a9a0947fb63",
   "metadata": {},
   "source": [
    "##### Spearman Korelasyonu"
   ]
  },
  {
   "cell_type": "code",
   "execution_count": 9,
   "id": "f20a4ba7-95d5-4760-be14-7e89bf924c7e",
   "metadata": {
    "tags": []
   },
   "outputs": [
    {
     "name": "stdout",
     "output_type": "stream",
     "text": [
      "Spearman korelasyonu: -0.039, p-değeri: 0.3879\n"
     ]
    }
   ],
   "source": [
    "from scipy.stats import spearmanr\n",
    "\n",
    "corr, p = spearmanr(df['Bet_Amount'], df['Login_Count'])\n",
    "print(f\"Spearman korelasyonu: {corr:.3f}, p-değeri: {p:.4f}\")\n"
   ]
  },
  {
   "cell_type": "markdown",
   "id": "e1edd800-1315-45ba-be96-7200b0631d13",
   "metadata": {},
   "source": [
    "##### Kendall’s Tau"
   ]
  },
  {
   "cell_type": "code",
   "execution_count": 11,
   "id": "4fc5aa62-82d7-4c9c-8230-bf463df71d7a",
   "metadata": {
    "tags": []
   },
   "outputs": [
    {
     "name": "stdout",
     "output_type": "stream",
     "text": [
      "Kendall's Tau: -0.024, p-değeri: 0.4298\n"
     ]
    }
   ],
   "source": [
    "from scipy.stats import kendalltau\n",
    "\n",
    "corr, p = kendalltau(df['Bet_Amount'], df['Login_Count'])\n",
    "print(f\"Kendall's Tau: {corr:.3f}, p-değeri: {p:.4f}\")\n"
   ]
  },
  {
   "cell_type": "code",
   "execution_count": 12,
   "id": "a1583f86-61c8-4487-8497-5ffd5646b705",
   "metadata": {
    "tags": []
   },
   "outputs": [
    {
     "name": "stdout",
     "output_type": "stream",
     "text": [
      "\n",
      "📊 Korelasyon Sonuçları Tablosu:\n",
      "\n",
      "         Test  Korelasyon Katsayısı  p-değeri           Yorum\n",
      "     Spearman             -0.038700  0.387858 Anlamsız ilişki\n",
      "Kendall's Tau             -0.023681  0.429756 Anlamsız ilişki\n"
     ]
    }
   ],
   "source": [
    "from scipy.stats import spearmanr, kendalltau\n",
    "import pandas as pd\n",
    "\n",
    "\n",
    "spearman_corr, spearman_p = spearmanr(df['Bet_Amount'], df['Login_Count'])\n",
    "kendall_corr, kendall_p = kendalltau(df['Bet_Amount'], df['Login_Count'])\n",
    "\n",
    "\n",
    "corr_df = pd.DataFrame({\n",
    "    'Test': ['Spearman', 'Kendall\\'s Tau'],\n",
    "    'Korelasyon Katsayısı': [spearman_corr, kendall_corr],\n",
    "    'p-değeri': [spearman_p, kendall_p],\n",
    "    'Yorum': [\n",
    "        'Pozitif ilişki, anlamlı' if spearman_p < 0.05 else 'Anlamsız ilişki',\n",
    "        'Pozitif ilişki, anlamlı' if kendall_p < 0.05 else 'Anlamsız ilişki'\n",
    "    ]\n",
    "})\n",
    "\n",
    "print(\"\\n📊 Korelasyon Sonuçları Tablosu:\\n\")\n",
    "print(corr_df.to_string(index=False))\n"
   ]
  },
  {
   "cell_type": "markdown",
   "id": "ffedb7c5-8107-4d1e-a861-3b403f1f222c",
   "metadata": {},
   "source": [
    "#### Levene Testi"
   ]
  },
  {
   "cell_type": "code",
   "execution_count": 14,
   "id": "a8301b1e-545a-4d37-bc45-a9dbd6e472d1",
   "metadata": {
    "tags": []
   },
   "outputs": [
    {
     "name": "stdout",
     "output_type": "stream",
     "text": [
      "Levene testi sonucu: Region için\n",
      "  İstatistik: 0.8553, p-değeri: 0.5111\n",
      "  → Region gruplarının varyansları eşit kabul edilebilir.\n",
      "--------------------------------------------------\n",
      "Levene testi sonucu: Account_Status için\n",
      "  İstatistik: 0.8929, p-değeri: 0.4101\n",
      "  → Account_Status gruplarının varyansları eşit kabul edilebilir.\n",
      "--------------------------------------------------\n",
      "Levene testi sonucu: Customer_Type için\n",
      "  İstatistik: 0.0150, p-değeri: 0.9851\n",
      "  → Customer_Type gruplarının varyansları eşit kabul edilebilir.\n",
      "--------------------------------------------------\n"
     ]
    }
   ],
   "source": [
    "from scipy.stats import levene\n",
    "\n",
    "categorical_cols = ['Region', 'Account_Status', 'Customer_Type']\n",
    "target = 'Bet_Amount'\n",
    "\n",
    "for col in categorical_cols:\n",
    "    groups = [group[target].values for name, group in df.groupby(col)]\n",
    "    stat, p = levene(*groups)\n",
    "    print(f\"Levene testi sonucu: {col} için\")\n",
    "    print(f\"  İstatistik: {stat:.4f}, p-değeri: {p:.4f}\")\n",
    "    if p < 0.05:\n",
    "        print(f\"  → {col} gruplarının varyansları eşit değil (anlamlı fark var).\")\n",
    "    else:\n",
    "        print(f\"  → {col} gruplarının varyansları eşit kabul edilebilir.\")\n",
    "    print(\"-\"*50)\n",
    "\n"
   ]
  },
  {
   "cell_type": "markdown",
   "id": "d78fc180-7f39-431f-9edd-e38dfe49460e",
   "metadata": {},
   "source": [
    "heterodaksisite (varyansların eşitsizliği) yok."
   ]
  },
  {
   "cell_type": "markdown",
   "id": "d48a036e-7eb5-4c18-b7f9-d6029fe9852e",
   "metadata": {},
   "source": [
    "#### Kruskal-Wallis"
   ]
  },
  {
   "cell_type": "code",
   "execution_count": 17,
   "id": "64f2536b-6eef-42b1-9714-36c42d61c48b",
   "metadata": {
    "tags": []
   },
   "outputs": [
    {
     "name": "stdout",
     "output_type": "stream",
     "text": [
      "=== Region için test ===\n",
      "Kruskal-Wallis testi istatistiği: 1.6079, p-değeri: 0.9003\n",
      "→ Region gruplar arasında anlamlı fark yok.\n",
      "----------------------------------------\n",
      "=== Account_Status için test ===\n",
      "Kruskal-Wallis testi istatistiği: 1.8922, p-değeri: 0.3882\n",
      "→ Account_Status gruplar arasında anlamlı fark yok.\n",
      "----------------------------------------\n",
      "=== Customer_Type için test ===\n",
      "Kruskal-Wallis testi istatistiği: 3.4932, p-değeri: 0.1744\n",
      "→ Customer_Type gruplar arasında anlamlı fark yok.\n",
      "----------------------------------------\n"
     ]
    }
   ],
   "source": [
    "from scipy.stats import mannwhitneyu, kruskal\n",
    "\n",
    "categorical_cols = ['Region', 'Account_Status', 'Customer_Type']\n",
    "target = 'Bet_Amount'\n",
    "\n",
    "for col in categorical_cols:\n",
    "    groups = [group[target].values for name, group in df.groupby(col)]\n",
    "    n_groups = len(groups)\n",
    "    print(f\"=== {col} için test ===\")\n",
    "    \n",
    "    if n_groups == 2:\n",
    "        stat, p = mannwhitneyu(*groups)\n",
    "        test_name = \"Mann-Whitney U testi\"\n",
    "    elif n_groups > 2:\n",
    "        stat, p = kruskal(*groups)\n",
    "        test_name = \"Kruskal-Wallis testi\"\n",
    "    else:\n",
    "        print(f\"{col} için yeterli grup yok, atlandı.\")\n",
    "        continue\n",
    "    \n",
    "    print(f\"{test_name} istatistiği: {stat:.4f}, p-değeri: {p:.4f}\")\n",
    "    if p < 0.05:\n",
    "        print(f\"→ {col} gruplar arasında anlamlı fark var.\")\n",
    "    else:\n",
    "        print(f\"→ {col} gruplar arasında anlamlı fark yok.\")\n",
    "    print(\"-\"*40)\n"
   ]
  },
  {
   "cell_type": "markdown",
   "id": "aa63e593-f250-41ec-ae9c-24900b0a5478",
   "metadata": {},
   "source": [
    "Bet_Amount değerleri, bu üç kategorik değişkenin grupları arasında istatistiksel olarak anlamlı farklılık göstermiyor.\n",
    "\n",
    "Yani, örneğin Region gruplarının bahis miktarları medyan olarak birbirinden anlamlı şekilde farklı değil.\n",
    "\n",
    "Benzer şekilde, Account_Status ve Customer_Type gruplarının da Bet_Amount değerlerinde anlamlı bir fark yok."
   ]
  },
  {
   "cell_type": "markdown",
   "id": "05eea70c-73ba-4351-a660-01e784428e8d",
   "metadata": {},
   "source": [
    "Bu sonuçlar, gruplar arası Bet_Amount farkının düşük olduğunu veya örneklem büyüklüğünün bu farkı yakalamaya yetmediğini gösteriyor olabilir.\n",
    "\n",
    "Eğer amaç gruplar arası fark bulmaksa, farklı değişkenler veya yeni özellikler oluşturup tekrar deneyebiliriz.\n",
    "\n",
    "Ya da müşteri davranışlarını başka yöntemlerle (segmentasyon, zaman serileri, regresyon vs.) inceleyebiliriz."
   ]
  },
  {
   "cell_type": "markdown",
   "id": "63bbb61e-2fb9-4dd6-99d4-f8249c46c438",
   "metadata": {},
   "source": [
    "#### Mutual Regression"
   ]
  },
  {
   "cell_type": "code",
   "execution_count": 21,
   "id": "50a99474-8785-4408-85e2-0b80d0eb8b46",
   "metadata": {
    "tags": []
   },
   "outputs": [
    {
     "name": "stdout",
     "output_type": "stream",
     "text": [
      "                      Feature  Mutual_Info\n",
      "0    Customer_Type_High-value     0.018596\n",
      "1            Region_Australia     0.006581\n",
      "2        Region_South America     0.005060\n",
      "3   Account_Status_Fraudulent     0.001475\n",
      "4                 Login_Count     0.000000\n",
      "5               Region_Africa     0.000000\n",
      "6                 Region_Asia     0.000000\n",
      "7               Region_Europe     0.000000\n",
      "8        Region_North America     0.000000\n",
      "9       Account_Status_Active     0.000000\n",
      "10   Account_Status_Suspended     0.000000\n",
      "11          Customer_Type_New     0.000000\n",
      "12      Customer_Type_Regular     0.000000\n"
     ]
    }
   ],
   "source": [
    "import numpy as np\n",
    "import pandas as pd\n",
    "from sklearn.feature_selection import mutual_info_regression\n",
    "from sklearn.preprocessing import OneHotEncoder\n",
    "import warnings\n",
    "warnings.filterwarnings('ignore', category=FutureWarning)\n",
    "\n",
    "drop_cols = ['User_ID', 'Signup_Date', 'Bet_Amount']\n",
    "\n",
    "\n",
    "X = df.drop(columns=drop_cols)\n",
    "\n",
    "\n",
    "categorical_cols = X.select_dtypes(include=['object']).columns.tolist()\n",
    "numerical_cols = X.select_dtypes(include=[np.number]).columns.tolist()\n",
    "\n",
    "\n",
    "encoder = OneHotEncoder(sparse=False)\n",
    "X_cat_encoded = encoder.fit_transform(X[categorical_cols])\n",
    "\n",
    "\n",
    "X_num = X[numerical_cols].values\n",
    "\n",
    "\n",
    "X_all = np.hstack((X_num, X_cat_encoded))\n",
    "\n",
    "\n",
    "y = df['Bet_Amount'].values\n",
    "\n",
    "\n",
    "discrete_features = [False]*len(numerical_cols) + [True]*X_cat_encoded.shape[1]\n",
    "\n",
    "\n",
    "mi = mutual_info_regression(X_all, y, discrete_features=discrete_features, random_state=42)\n",
    "\n",
    "feature_names = numerical_cols + list(encoder.get_feature_names_out(categorical_cols))\n",
    "\n",
    "\n",
    "mi_results = pd.DataFrame({'Feature': feature_names, 'Mutual_Info': mi})\n",
    "mi_results = mi_results.sort_values(by='Mutual_Info', ascending=False).reset_index(drop=True)\n",
    "\n",
    "print(mi_results)\n"
   ]
  },
  {
   "cell_type": "markdown",
   "id": "f3ed5254-0973-47d5-9e76-3a5d3dd8ceeb",
   "metadata": {},
   "source": [
    "#### Ki-kare Testi ve Cramér’s V Hesaplama"
   ]
  },
  {
   "cell_type": "code",
   "execution_count": 23,
   "id": "da1b0755-afdd-4817-badd-9a62c5c730e5",
   "metadata": {
    "tags": []
   },
   "outputs": [
    {
     "name": "stdout",
     "output_type": "stream",
     "text": [
      "Region - Account_Status arasındaki ilişki:\n",
      "  Ki-kare p-değeri: 0.3289\n",
      "  Cramér's V: 0.0369\n",
      "  → Anlamlı ilişki yok.\n",
      "----------------------------------------\n",
      "Region - Customer_Type arasındaki ilişki:\n",
      "  Ki-kare p-değeri: 0.7995\n",
      "  Cramér's V: 0.0000\n",
      "  → Anlamlı ilişki yok.\n",
      "----------------------------------------\n",
      "Account_Status - Customer_Type arasındaki ilişki:\n",
      "  Ki-kare p-değeri: 0.9104\n",
      "  Cramér's V: 0.0000\n",
      "  → Anlamlı ilişki yok.\n",
      "----------------------------------------\n"
     ]
    }
   ],
   "source": [
    "import pandas as pd\n",
    "import numpy as np\n",
    "from scipy.stats import chi2_contingency\n",
    "\n",
    "def cramers_v(confusion_matrix):\n",
    "    chi2 = chi2_contingency(confusion_matrix)[0]\n",
    "    n = confusion_matrix.sum().sum()\n",
    "    phi2 = chi2 / n\n",
    "    r,k = confusion_matrix.shape\n",
    "    phi2corr = max(0, phi2 - ((k-1)*(r-1))/(n-1))\n",
    "    rcorr = r - ((r-1)**2)/(n-1)\n",
    "    kcorr = k - ((k-1)**2)/(n-1)\n",
    "    return np.sqrt(phi2corr / min((kcorr-1), (rcorr-1)))\n",
    "\n",
    "categorical_cols = ['Region', 'Account_Status', 'Customer_Type']\n",
    "\n",
    "for i in range(len(categorical_cols)):\n",
    "    for j in range(i+1, len(categorical_cols)):\n",
    "        var1 = categorical_cols[i]\n",
    "        var2 = categorical_cols[j]\n",
    "        \n",
    "        contingency_table = pd.crosstab(df[var1], df[var2])\n",
    "        chi2, p, dof, expected = chi2_contingency(contingency_table)\n",
    "        cv = cramers_v(contingency_table)\n",
    "        \n",
    "        print(f\"{var1} - {var2} arasındaki ilişki:\")\n",
    "        print(f\"  Ki-kare p-değeri: {p:.4f}\")\n",
    "        print(f\"  Cramér's V: {cv:.4f}\")\n",
    "        if p < 0.05:\n",
    "            print(\"  → Anlamlı ilişki var.\")\n",
    "        else:\n",
    "            print(\"  → Anlamlı ilişki yok.\")\n",
    "        print(\"-\"*40)\n"
   ]
  },
  {
   "cell_type": "markdown",
   "id": "01989964-585a-41ad-a4f3-c846eb203e61",
   "metadata": {},
   "source": [
    "Bu üç kategorik değişken arasında anlamlı ve güçlü bir ilişki yok. Yani örneğin, Region’un Account_Status ya da Customer_Type üzerinde anlamlı bir etkisi görünmüyor."
   ]
  },
  {
   "cell_type": "code",
   "execution_count": 25,
   "id": "a7d756dc-4533-45e3-835a-363151a0c488",
   "metadata": {
    "tags": []
   },
   "outputs": [
    {
     "name": "stdout",
     "output_type": "stream",
     "text": [
      "       Feature       VIF                                 Yorum\n",
      "0   Bet_Amount  2.246215  Multicollinearity yok veya çok düşük\n",
      "1  Login_Count  2.246215  Multicollinearity yok veya çok düşük\n"
     ]
    }
   ],
   "source": [
    "import pandas as pd\n",
    "import numpy as np\n",
    "from statsmodels.stats.outliers_influence import variance_inflation_factor\n",
    "\n",
    "\n",
    "numerical_cols = df.select_dtypes(include=[np.number]).columns.tolist()\n",
    "\n",
    "\n",
    "X = df[numerical_cols]\n",
    "\n",
    "\n",
    "vif_data = pd.DataFrame()\n",
    "vif_data[\"Feature\"] = X.columns\n",
    "vif_data[\"VIF\"] = [variance_inflation_factor(X.values, i) for i in range(len(X.columns))]\n",
    "\n",
    "\n",
    "def vif_comment(vif):\n",
    "    if vif < 5:\n",
    "        return \"Multicollinearity yok veya çok düşük\"\n",
    "    elif 5 <= vif < 10:\n",
    "        return \"Orta düzeyde multicollinearity, dikkat edilmeli\"\n",
    "    else:\n",
    "        return \"Yüksek multicollinearity, problem olabilir!\"\n",
    "\n",
    "vif_data[\"Yorum\"] = vif_data[\"VIF\"].apply(vif_comment)\n",
    "\n",
    "\n",
    "print(vif_data)\n"
   ]
  },
  {
   "cell_type": "markdown",
   "id": "6024264b-443f-4d8c-b8d8-8bded88da8d1",
   "metadata": {},
   "source": [
    "| Test Türü                   | Değişkenler / Grup           | İstatistik / Değer            | p-değeri     | Yorum / Anlamlılık                  |\n",
    "|----------------------------|-----------------------------|-------------------------------|--------------|------------------------------------|\n",
    "| Shapiro-Wilk (Normallik)   | Bet_Amount                  | 0.9516                        | 1.01e-11     | Normal dağılım yok                 |\n",
    "| Shapiro-Wilk (Normallik)   | Login_Count                 | 0.9553                        | 3.59e-11     | Normal dağılım yok                 |\n",
    "| Çarpıklık (Skewness)       | Bet_Amount                  | 0.032                         | -            | Simetrik                          |\n",
    "| Çarpıklık (Skewness)       | Login_Count                 | -0.031                        | -            | Simetrik                          |\n",
    "| Basıklık (Kurtosis)        | Bet_Amount                  | -1.229                        | -            | Aşırı düz (platykurtik)           |\n",
    "| Basıklık (Kurtosis)        | Login_Count                 | -1.170                        | -            | Aşırı düz (platykurtik)           |\n",
    "| Spearman Korelasyon        | Bet_Amount - Login_Count    | -0.0387                      | 0.388        | Anlamsız ilişki                   |\n",
    "| Kendall's Tau              | Bet_Amount - Login_Count    | -0.0237                      | 0.430        | Anlamsız ilişki                   |\n",
    "| Levene Testi (Varyans Eşitliği) | Region                   | 0.8553                       | 0.511        | Varyanslar eşit kabul edilebilir  |\n",
    "| Levene Testi (Varyans Eşitliği) | Account_Status            | 0.8929                       | 0.410        | Varyanslar eşit kabul edilebilir  |\n",
    "| Levene Testi (Varyans Eşitliği) | Customer_Type             | 0.0150                       | 0.985        | Varyanslar eşit kabul edilebilir  |\n",
    "| Kruskal-Wallis Testi       | Bet_Amount ~ Region         | 1.608                        | 0.900        | Gruplar arası anlamlı fark yok     |\n",
    "| Kruskal-Wallis Testi       | Bet_Amount ~ Account_Status | 1.892                        | 0.388        | Gruplar arası anlamlı fark yok     |\n",
    "| Kruskal-Wallis Testi       | Bet_Amount ~ Customer_Type  | 3.493                        | 0.174        | Gruplar arası anlamlı fark yok     |\n",
    "| Mutual Information         | Customer_Type_High-value    | 0.0186                       | -            | En yüksek bilgi katkısı            |\n",
    "| Mutual Information         | Region_Australia            | 0.0066                       | -            | Düşük bilgi katkısı               |\n",
    "| Mutual Information         | Diğer kategorik değişkenler | ≤ 0.005                      | -            | İlgisiz veya çok düşük katkı       |\n",
    "| Ki-Kare ve Cramér's V      | Region - Account_Status     | p=0.329, Cramér's V=0.037    | -            | Anlamlı ilişki yok                |\n",
    "| Ki-Kare ve Cramér's V      | Region - Customer_Type      | p=0.800, Cramér's V=0.000    | -            | Anlamlı ilişki yok                |\n",
    "| Ki-Kare ve Cramér's V      | Account_Status - Customer_Type | p=0.910, Cramér's V=0.000  | -            | Anlamlı ilişki yok                |\n",
    "| VIF (Çoklu Bağlantı)       | Bet_Amount                  | 2.25                         | -            | Multicollinearity yok veya çok düşük |\n",
    "| VIF (Çoklu Bağlantı)       | Login_Count                 | 2.25                         | -            | Multicollinearity yok veya çok düşük |\n"
   ]
  },
  {
   "cell_type": "markdown",
   "id": "fb8a3f9d-6104-425e-8da6-cf97e2baa360",
   "metadata": {},
   "source": [
    "# Veri Analizi Özeti ve Model Önerileri\n",
    "\n",
    "## 1. Veri Dağılımı\n",
    "- Bet_Amount ve Login_Count **normal dağılmıyor**.\n",
    "- Her iki değişken **simetrik** ve **aşırı düz (platykurtik)** dağılıma sahip.\n",
    "\n",
    "## 2. Değişkenler Arası İlişki\n",
    "- Bet_Amount ile Login_Count arasında anlamlı bir korelasyon yok.\n",
    "- Kategorik değişkenler (Region, Account_Status, Customer_Type) ile Bet_Amount arasında anlamlı fark bulunmadı.\n",
    "\n",
    "## 3. Varyans Homojenliği\n",
    "- Kategorik gruplar arasında varyans eşitliği sağlanıyor (Levene testi).\n",
    "\n",
    "## 4. Kategorik Değişkenlerin Bilgi Katkısı\n",
    "- Mutual Information değerleri genel olarak düşük.\n",
    "- Customer_Type_High-value değişkeni en yüksek ama düşük bilgi katkısına sahip.\n",
    "\n",
    "## 5. Kategorik Değişkenler Arasındaki İlişki\n",
    "- Ki-kare ve Cramér's V testleri anlamlı ilişki göstermedi.\n",
    "\n",
    "## 6. Çoklu Bağlantı (Multicollinearity)\n",
    "- Bet_Amount ve Login_Count arasında çoklu bağlantı yok (VIF ≈ 2.25).\n",
    "\n",
    "---\n",
    "\n",
    "# Model Önerileri\n",
    "\n",
    "- **Parametrik olmayan modeller** veya **veri dönüşümleri** tercih edilmeli (log, Box-Cox).\n",
    "- **Tree-based modeller** (Random Forest, XGBoost vb.) normallik gerektirmediğinden uygun.\n",
    "- Kategorik değişkenler tek başına güçlü tahminçi değil; **feature engineering** yapılabilir.\n",
    "- Segmentasyon veya farklı davranışsal analizler için yeni kriterler ve veri eklenmeli.\n",
    "\n",
    "---\n",
    "\n",
    "# İş Zekası İçin\n",
    "- Mevcut kategorik gruplar Bet_Amount’da anlamlı farklılık yaratmıyor.\n",
    "- Kullanıcı davranışları bağımsız değişkenlerle karmaşık, detaylı analiz ve yeni veri gerekebilir.\n",
    "- Modelleme öncesi veri dönüşümü ve uygun model seçimi kritik.\n",
    "\n"
   ]
  },
  {
   "cell_type": "code",
   "execution_count": null,
   "id": "a5dcce7e-cf3e-401c-bc80-7046403ca21c",
   "metadata": {},
   "outputs": [],
   "source": []
  }
 ],
 "metadata": {
  "kernelspec": {
   "display_name": "Python 3 (ipykernel)",
   "language": "python",
   "name": "python3"
  },
  "language_info": {
   "codemirror_mode": {
    "name": "ipython",
    "version": 3
   },
   "file_extension": ".py",
   "mimetype": "text/x-python",
   "name": "python",
   "nbconvert_exporter": "python",
   "pygments_lexer": "ipython3",
   "version": "3.11.7"
  }
 },
 "nbformat": 4,
 "nbformat_minor": 5
}
